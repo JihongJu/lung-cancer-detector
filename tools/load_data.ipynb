{
 "cells": [
  {
   "cell_type": "code",
   "execution_count": 41,
   "metadata": {
    "collapsed": false
   },
   "outputs": [],
   "source": [
    "import os\n",
    "import dicom\n",
    "import nipy as ni\n",
    "from nipy.core.api import AffineTransform as AfT, Image, vox2mni\n",
    "import nibabel as nib\n",
    "import numpy as np\n",
    "import pandas as pd"
   ]
  },
  {
   "cell_type": "code",
   "execution_count": 42,
   "metadata": {
    "collapsed": false
   },
   "outputs": [],
   "source": [
    "# trainval = 'sample_images'\n",
    "trainval = 'stage1'\n",
    "# img_format = 'nii'\n",
    "img_format = 'dcm'\n",
    "path = os.path.join('../','data')\n",
    "target_size = (512, 512, 128)"
   ]
  },
  {
   "cell_type": "code",
   "execution_count": 43,
   "metadata": {
    "collapsed": false
   },
   "outputs": [],
   "source": [
    "def load_scan(path):\n",
    "    slices = [dicom.read_file(path + '/' + s) for s in os.listdir(path)]\n",
    "    slices.sort(key = lambda x: float(x.ImagePositionPatient[2]))\n",
    "    try:\n",
    "        slice_thickness = np.abs(slices[0].ImagePositionPatient[2] - slices[1].ImagePositionPatient[2])\n",
    "    except:\n",
    "        slice_thickness = np.abs(slices[0].SliceLocation - slices[1].SliceLocation)\n",
    "        \n",
    "    for s in slices:\n",
    "        s.SliceThickness = slice_thickness\n",
    "        \n",
    "    return slices\n",
    "\n",
    "def get_pixels_hu(slices):\n",
    "    image = np.stack([s.pixel_array for s in slices])\n",
    "    # Convert to int16 (from sometimes int16), \n",
    "    # should be possible as values should always be low enough (<32k)\n",
    "    image = image.astype(np.int16)\n",
    "\n",
    "    # Set outside-of-scan pixels to 0\n",
    "    # The intercept is usually -1024, so air is approximately 0\n",
    "    image[image == -2000] = 0\n",
    "    \n",
    "    # Convert to Hounsfield units (HU)\n",
    "    for slice_number in range(len(slices)):\n",
    "        \n",
    "        intercept = slices[slice_number].RescaleIntercept\n",
    "        slope = slices[slice_number].RescaleSlope\n",
    "        \n",
    "        if slope != 1:\n",
    "            image[slice_number] = slope * image[slice_number].astype(np.float64)\n",
    "            image[slice_number] = image[slice_number].astype(np.int16)\n",
    "            \n",
    "        image[slice_number] += np.int16(intercept)\n",
    "    \n",
    "    return np.array(image, dtype=np.int16)\n",
    "\n",
    "def iterative_mean(x_t, t, x_m, m):\n",
    "    t_m = t + m\n",
    "    x_t_m = x_t + (m / float(t+m)) * (x_m - x_t)\n",
    "    return x_t_m, t_m"
   ]
  },
  {
   "cell_type": "code",
   "execution_count": 45,
   "metadata": {
    "collapsed": false
   },
   "outputs": [
    {
     "ename": "KeyboardInterrupt",
     "evalue": "",
     "output_type": "error",
     "traceback": [
      "\u001b[0;31m---------------------------------------------------------------------------\u001b[0m",
      "\u001b[0;31mKeyboardInterrupt\u001b[0m                         Traceback (most recent call last)",
      "\u001b[0;32m<ipython-input-45-14bd90a8398d>\u001b[0m in \u001b[0;36m<module>\u001b[0;34m()\u001b[0m\n\u001b[1;32m     33\u001b[0m                                 world_space='')\n\u001b[1;32m     34\u001b[0m         resampled_img = vol_img.as_volume_img(affine=np.eye(4),\n\u001b[0;32m---> 35\u001b[0;31m                                           shape=(512, 512, 128))\n\u001b[0m\u001b[1;32m     36\u001b[0m         \u001b[0marr\u001b[0m \u001b[0;34m=\u001b[0m \u001b[0mresampled_img\u001b[0m\u001b[0;34m.\u001b[0m\u001b[0mget_data\u001b[0m\u001b[0;34m(\u001b[0m\u001b[0;34m)\u001b[0m\u001b[0;34m.\u001b[0m\u001b[0mastype\u001b[0m\u001b[0;34m(\u001b[0m\u001b[0mnp\u001b[0m\u001b[0;34m.\u001b[0m\u001b[0mfloat64\u001b[0m\u001b[0;34m)\u001b[0m\u001b[0;34m\u001b[0m\u001b[0m\n\u001b[1;32m     37\u001b[0m         \u001b[0;31m# normalize\u001b[0m\u001b[0;34m\u001b[0m\u001b[0;34m\u001b[0m\u001b[0m\n",
      "\u001b[0;32m/home/jihong/anaconda2/lib/python2.7/site-packages/nipy/labs/datasets/volumes/volume_img.pyc\u001b[0m in \u001b[0;36mas_volume_img\u001b[0;34m(self, affine, shape, interpolation, copy)\u001b[0m\n\u001b[1;32m    225\u001b[0m                                                 \u001b[0moffset\u001b[0m\u001b[0;34m=\u001b[0m\u001b[0mnp\u001b[0m\u001b[0;34m.\u001b[0m\u001b[0mdot\u001b[0m\u001b[0;34m(\u001b[0m\u001b[0mA_inv\u001b[0m\u001b[0;34m,\u001b[0m \u001b[0mb\u001b[0m\u001b[0;34m)\u001b[0m\u001b[0;34m,\u001b[0m\u001b[0;34m\u001b[0m\u001b[0m\n\u001b[1;32m    226\u001b[0m                                                 \u001b[0moutput_shape\u001b[0m\u001b[0;34m=\u001b[0m\u001b[0mshape\u001b[0m\u001b[0;34m,\u001b[0m\u001b[0;34m\u001b[0m\u001b[0m\n\u001b[0;32m--> 227\u001b[0;31m                                                 order=interpolation_order)\n\u001b[0m\u001b[1;32m    228\u001b[0m         return self.__class__(resampled_data, affine, \n\u001b[1;32m    229\u001b[0m                            \u001b[0mself\u001b[0m\u001b[0;34m.\u001b[0m\u001b[0mworld_space\u001b[0m\u001b[0;34m,\u001b[0m \u001b[0mmetadata\u001b[0m\u001b[0;34m=\u001b[0m\u001b[0mself\u001b[0m\u001b[0;34m.\u001b[0m\u001b[0mmetadata\u001b[0m\u001b[0;34m,\u001b[0m\u001b[0;34m\u001b[0m\u001b[0m\n",
      "\u001b[0;32m/home/jihong/anaconda2/lib/python2.7/site-packages/scipy/ndimage/interpolation.pyc\u001b[0m in \u001b[0;36maffine_transform\u001b[0;34m(input, matrix, offset, output_shape, output, order, mode, cval, prefilter)\u001b[0m\n\u001b[1;32m    433\u001b[0m         )\n\u001b[1;32m    434\u001b[0m         _nd_image.zoom_shift(filtered, matrix, offset/matrix, output, order,\n\u001b[0;32m--> 435\u001b[0;31m                              mode, cval)\n\u001b[0m\u001b[1;32m    436\u001b[0m     \u001b[0;32melse\u001b[0m\u001b[0;34m:\u001b[0m\u001b[0;34m\u001b[0m\u001b[0m\n\u001b[1;32m    437\u001b[0m         _geometric_transform(filtered, None, None, matrix, offset,\n",
      "\u001b[0;31mKeyboardInterrupt\u001b[0m: "
     ]
    }
   ],
   "source": [
    "from nipy.labs.datasets.volumes.volume_img import VolumeImg\n",
    "# load images\n",
    "df_labels = pd.read_csv(path+\"/dcm\"+\"/{}_labels.csv\".format(trainval))\n",
    "\n",
    "nb_series = len(df_labels)\n",
    "# x = np.zeros((nb_series,)+target_size, dtype='float16')\n",
    "xs = []\n",
    "\n",
    "for idx, (s_id, series) in enumerate(zip(df_labels.index, df_labels['id'])):\n",
    "    # load image\n",
    "    if img_format == 'nii':\n",
    "        # load\n",
    "        img_path = os.path.join(path, img_format, trainval,\n",
    "                                'Axial_{}.nii.gz'.format(series))\n",
    "        img = ni.load_image(img_path)\n",
    "        # resample\n",
    "        vol_img = VolumeImg(data=img, affine=np.eye(4),\n",
    "                            world_space='')\n",
    "        resampled_img = vol_img.as_volume_img(affine=np.eye(4),\n",
    "                                          shape=(512, 512, 128))\n",
    "\n",
    "    elif img_format == 'dcm':\n",
    "        # load\n",
    "        img_path = os.path.join(path, img_format, trainval, series)\n",
    "        patient = load_scan(img_path)\n",
    "        patient_pixels = get_pixels_hu(patient)\n",
    "        pix_resampled, spacing = resample(patient_pixels, patient, [1,1,1])\n",
    "\n",
    "        # resample\n",
    "        vol_img = VolumeImg(data=x_series, affine=np.eye(4),\n",
    "                                world_space='')\n",
    "        resampled_img = vol_img.as_volume_img(affine=np.eye(4),\n",
    "                                          shape=(512, 512, 128))\n",
    "        arr = resampled_img.get_data().astype(np.float64)\n",
    "        # normalize\n",
    "        arr -= float(np.mean(arr))\n",
    "        arr /= float((np.amax(arr) - np.amin(arr)))\n",
    "        # save\n",
    "        img = Image(arr, vox2mni(np.eye(4)))\n",
    "        output_path = os.path.join(path, 'norm_nii', trainval,\n",
    "                                'Axial_{}.nii.gz'.format(series))\n",
    "        newimg = ni.save_image(img, output_path)\n",
    "    \n",
    "\n",
    "df_labels['cancer'].values.astype('int8')"
   ]
  },
  {
   "cell_type": "code",
   "execution_count": 40,
   "metadata": {
    "collapsed": false
   },
   "outputs": [
    {
     "name": "stdout",
     "output_type": "stream",
     "text": [
      "5.06943572045e-17\n"
     ]
    }
   ],
   "source": [
    "print current_mean"
   ]
  },
  {
   "cell_type": "code",
   "execution_count": 31,
   "metadata": {
    "collapsed": false
   },
   "outputs": [
    {
     "name": "stdout",
     "output_type": "stream",
     "text": [
      "161.074037505\n"
     ]
    }
   ],
   "source": [
    "print current_mean"
   ]
  },
  {
   "cell_type": "code",
   "execution_count": 26,
   "metadata": {
    "collapsed": false
   },
   "outputs": [
    {
     "name": "stdout",
     "output_type": "stream",
     "text": [
      "507.43255497 0 2768\n"
     ]
    }
   ],
   "source": [
    "print np.mean(xs), np.amin(xs), np.amax(xs)"
   ]
  },
  {
   "cell_type": "code",
   "execution_count": null,
   "metadata": {
    "collapsed": true
   },
   "outputs": [],
   "source": []
  }
 ],
 "metadata": {
  "kernelspec": {
   "display_name": "Python 2",
   "language": "python",
   "name": "python2"
  },
  "language_info": {
   "codemirror_mode": {
    "name": "ipython",
    "version": 2
   },
   "file_extension": ".py",
   "mimetype": "text/x-python",
   "name": "python",
   "nbconvert_exporter": "python",
   "pygments_lexer": "ipython2",
   "version": "2.7.13"
  }
 },
 "nbformat": 4,
 "nbformat_minor": 2
}
